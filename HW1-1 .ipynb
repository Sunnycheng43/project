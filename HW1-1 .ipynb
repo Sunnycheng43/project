{
 "cells": [
  {
   "cell_type": "code",
   "execution_count": 1,
   "metadata": {
    "executionInfo": {
     "elapsed": 994,
     "status": "ok",
     "timestamp": 1677642112684,
     "user": {
      "displayName": "Sunny",
      "userId": "16304866321136083837"
     },
     "user_tz": -480
    },
    "id": "WHLgY16n6szV"
   },
   "outputs": [],
   "source": [
    "import numpy as np\n",
    "import pandas as pd\n",
    "import matplotlib.pyplot as plt"
   ]
  },
  {
   "cell_type": "code",
   "execution_count": 2,
   "metadata": {
    "colab": {
     "base_uri": "https://localhost:8080/"
    },
    "executionInfo": {
     "elapsed": 9726,
     "status": "ok",
     "timestamp": 1677642123962,
     "user": {
      "displayName": "Sunny",
      "userId": "16304866321136083837"
     },
     "user_tz": -480
    },
    "id": "AyZSKJuC617j",
    "outputId": "d0af0f70-0261-4917-d295-aec60f8b04ee"
   },
   "outputs": [],
   "source": [
    "from tensorflow.keras.datasets import boston_housing\n",
    "\n",
    "(x_train_set, y_train_set), (x_test, y_test) = boston_housing.load_data()"
   ]
  },
  {
   "cell_type": "code",
   "execution_count": 3,
   "metadata": {
    "colab": {
     "base_uri": "https://localhost:8080/"
    },
    "executionInfo": {
     "elapsed": 5,
     "status": "ok",
     "timestamp": 1677642123962,
     "user": {
      "displayName": "Sunny",
      "userId": "16304866321136083837"
     },
     "user_tz": -480
    },
    "id": "AYvj0jp27KCP",
    "outputId": "8687ad80-8ab4-454d-986b-565eb4b74681"
   },
   "outputs": [
    {
     "data": {
      "text/plain": [
       "((404, 13), (404,), (102, 13), (102,))"
      ]
     },
     "execution_count": 3,
     "metadata": {},
     "output_type": "execute_result"
    }
   ],
   "source": [
    "x_train_set.shape, y_train_set.shape, x_test.shape, y_test.shape"
   ]
  },
  {
   "cell_type": "code",
   "execution_count": 4,
   "metadata": {
    "executionInfo": {
     "elapsed": 2701,
     "status": "ok",
     "timestamp": 1677642126660,
     "user": {
      "displayName": "Sunny",
      "userId": "16304866321136083837"
     },
     "user_tz": -480
    },
    "id": "1abAOP0Y7wRy"
   },
   "outputs": [],
   "source": [
    "from sklearn.model_selection import train_test_split\n",
    "\n",
    "x_train, x_valid, y_train, y_valid = train_test_split(\n",
    "  x_train_set, y_train_set, random_state=1)"
   ]
  },
  {
   "cell_type": "code",
   "execution_count": 5,
   "metadata": {
    "executionInfo": {
     "elapsed": 391,
     "status": "ok",
     "timestamp": 1677642127048,
     "user": {
      "displayName": "Sunny",
      "userId": "16304866321136083837"
     },
     "user_tz": -480
    },
    "id": "xhuSi4Fj8C6P"
   },
   "outputs": [],
   "source": [
    "from sklearn.preprocessing import StandardScaler\n",
    "\n",
    "scal = StandardScaler()\n",
    "\n",
    "x_train = scal.fit_transform(x_train)\n",
    "\n",
    "x_valid = scal.transform(x_valid)\n",
    "x_test = scal.transform(x_test)"
   ]
  },
  {
   "cell_type": "code",
   "execution_count": 6,
   "metadata": {
    "executionInfo": {
     "elapsed": 3,
     "status": "ok",
     "timestamp": 1677642127048,
     "user": {
      "displayName": "Sunny",
      "userId": "16304866321136083837"
     },
     "user_tz": -480
    },
    "id": "Y7CUm_JJ8DEm"
   },
   "outputs": [],
   "source": [
    "import tensorflow as tf \n",
    "from tensorflow import keras\n",
    "from tensorflow.keras.models import Sequential\n",
    "from tensorflow.keras.layers import Dense\n",
    "from tensorflow.keras.optimizers import SGD\n",
    "\n",
    "keras.backend.clear_session()\n",
    "np.random.seed(1)\n",
    "tf.random.set_seed(1)"
   ]
  },
  {
   "cell_type": "code",
   "execution_count": 7,
   "metadata": {
    "executionInfo": {
     "elapsed": 1237,
     "status": "ok",
     "timestamp": 1677642128283,
     "user": {
      "displayName": "Sunny",
      "userId": "16304866321136083837"
     },
     "user_tz": -480
    },
    "id": "18Mkzzsr8DVT"
   },
   "outputs": [],
   "source": [
    "model = Sequential()\n",
    "model.add(Dense(units=100, activation='relu', input_shape=x_train.shape[1:]))\n",
    "model.add(Dense(units=50, activation='relu'))\n",
    "model.add(Dense(units=1))"
   ]
  },
  {
   "cell_type": "code",
   "execution_count": 8,
   "metadata": {
    "colab": {
     "base_uri": "https://localhost:8080/"
    },
    "executionInfo": {
     "elapsed": 462,
     "status": "ok",
     "timestamp": 1677642128734,
     "user": {
      "displayName": "Sunny",
      "userId": "16304866321136083837"
     },
     "user_tz": -480
    },
    "id": "5xl5qblA84r3",
    "outputId": "c6eba461-beaf-4b5c-df4d-7df13f49cbd8"
   },
   "outputs": [
    {
     "name": "stdout",
     "output_type": "stream",
     "text": [
      "Model: \"sequential\"\n",
      "_________________________________________________________________\n",
      " Layer (type)                Output Shape              Param #   \n",
      "=================================================================\n",
      " dense (Dense)               (None, 100)               1400      \n",
      "                                                                 \n",
      " dense_1 (Dense)             (None, 50)                5050      \n",
      "                                                                 \n",
      " dense_2 (Dense)             (None, 1)                 51        \n",
      "                                                                 \n",
      "=================================================================\n",
      "Total params: 6,501\n",
      "Trainable params: 6,501\n",
      "Non-trainable params: 0\n",
      "_________________________________________________________________\n"
     ]
    }
   ],
   "source": [
    "model.summary()"
   ]
  },
  {
   "cell_type": "code",
   "execution_count": 9,
   "metadata": {
    "executionInfo": {
     "elapsed": 14,
     "status": "ok",
     "timestamp": 1677642128735,
     "user": {
      "displayName": "Sunny",
      "userId": "16304866321136083837"
     },
     "user_tz": -480
    },
    "id": "-LSnHqRJ84x_"
   },
   "outputs": [],
   "source": [
    "weights, biases = model.layers[1].get_weights()"
   ]
  },
  {
   "cell_type": "code",
   "execution_count": 10,
   "metadata": {
    "colab": {
     "base_uri": "https://localhost:8080/"
    },
    "executionInfo": {
     "elapsed": 12,
     "status": "ok",
     "timestamp": 1677642128735,
     "user": {
      "displayName": "Sunny",
      "userId": "16304866321136083837"
     },
     "user_tz": -480
    },
    "id": "kQqiugiw840Q",
    "outputId": "17f22df6-0374-4aa6-9a12-5de72c470c0a"
   },
   "outputs": [
    {
     "data": {
      "text/plain": [
       "((50,),\n",
       " array([0., 0., 0., 0., 0., 0., 0., 0., 0., 0., 0., 0., 0., 0., 0., 0., 0.,\n",
       "        0., 0., 0., 0., 0., 0., 0., 0., 0., 0., 0., 0., 0., 0., 0., 0., 0.,\n",
       "        0., 0., 0., 0., 0., 0., 0., 0., 0., 0., 0., 0., 0., 0., 0., 0.],\n",
       "       dtype=float32))"
      ]
     },
     "execution_count": 10,
     "metadata": {},
     "output_type": "execute_result"
    }
   ],
   "source": [
    "biases.shape, biases"
   ]
  },
  {
   "cell_type": "code",
   "execution_count": 11,
   "metadata": {
    "colab": {
     "base_uri": "https://localhost:8080/"
    },
    "executionInfo": {
     "elapsed": 7,
     "status": "ok",
     "timestamp": 1677167312691,
     "user": {
      "displayName": "Sunny",
      "userId": "16304866321136083837"
     },
     "user_tz": -480
    },
    "id": "x7TOVKZm9DdO",
    "outputId": "bac90f7f-e305-4f54-fac9-4fa3658dd79d"
   },
   "outputs": [
    {
     "data": {
      "text/plain": [
       "((100, 50),\n",
       " array([[-1.7570877e-01,  8.1402734e-02, -1.4826283e-01, ...,\n",
       "         -1.7614923e-01,  5.6872264e-02, -7.6071791e-02],\n",
       "        [-1.3829151e-01, -5.4833129e-02,  3.6174923e-02, ...,\n",
       "         -1.6717239e-01, -9.8129749e-02,  5.8174953e-02],\n",
       "        [-1.6167760e-05, -1.7889757e-01, -4.3867156e-02, ...,\n",
       "          5.5394992e-02,  6.8313494e-02,  1.6976263e-01],\n",
       "        ...,\n",
       "        [-1.9529200e-01, -1.0802656e-01, -1.5956549e-01, ...,\n",
       "         -1.8443738e-01, -8.9457229e-02, -1.8359251e-01],\n",
       "        [-1.4680529e-01,  9.6274987e-02, -1.4093816e-03, ...,\n",
       "         -1.5335560e-02, -1.5325160e-01, -1.0957737e-01],\n",
       "        [-9.5625371e-03, -3.4327418e-02, -1.3489552e-01, ...,\n",
       "          1.8860336e-01,  2.2651255e-03,  1.4622211e-02]], dtype=float32))"
      ]
     },
     "execution_count": 11,
     "metadata": {},
     "output_type": "execute_result"
    }
   ],
   "source": [
    "weights.shape, weights"
   ]
  },
  {
   "cell_type": "code",
   "execution_count": 12,
   "metadata": {
    "executionInfo": {
     "elapsed": 9,
     "status": "ok",
     "timestamp": 1677642128736,
     "user": {
      "displayName": "Sunny",
      "userId": "16304866321136083837"
     },
     "user_tz": -480
    },
    "id": "Qye5TCsv9Dfg"
   },
   "outputs": [],
   "source": [
    "model.compile(loss='mse',\n",
    "      optimizer=SGD(learning_rate=1e-3))"
   ]
  },
  {
   "cell_type": "code",
   "execution_count": 13,
   "metadata": {
    "colab": {
     "base_uri": "https://localhost:8080/"
    },
    "executionInfo": {
     "elapsed": 7522,
     "status": "ok",
     "timestamp": 1677642136250,
     "user": {
      "displayName": "Sunny",
      "userId": "16304866321136083837"
     },
     "user_tz": -480
    },
    "id": "4u4jwXx69Dhf",
    "outputId": "63a48749-1411-4b94-97ff-e3c6f4de032b"
   },
   "outputs": [
    {
     "name": "stdout",
     "output_type": "stream",
     "text": [
      "Epoch 1/20\n",
      "10/10 [==============================] - 1s 28ms/step - loss: 512.7304 - val_loss: 324.9708\n",
      "Epoch 2/20\n",
      "10/10 [==============================] - 0s 5ms/step - loss: 164.9336 - val_loss: 66.6260\n",
      "Epoch 3/20\n",
      "10/10 [==============================] - 0s 4ms/step - loss: 44.1430 - val_loss: 37.2347\n",
      "Epoch 4/20\n",
      "10/10 [==============================] - 0s 4ms/step - loss: 28.0593 - val_loss: 28.8904\n",
      "Epoch 5/20\n",
      "10/10 [==============================] - 0s 4ms/step - loss: 22.4263 - val_loss: 23.5845\n",
      "Epoch 6/20\n",
      "10/10 [==============================] - 0s 4ms/step - loss: 19.8097 - val_loss: 21.3290\n",
      "Epoch 7/20\n",
      "10/10 [==============================] - 0s 6ms/step - loss: 18.2146 - val_loss: 19.3756\n",
      "Epoch 8/20\n",
      "10/10 [==============================] - 0s 5ms/step - loss: 16.9888 - val_loss: 18.1144\n",
      "Epoch 9/20\n",
      "10/10 [==============================] - 0s 5ms/step - loss: 15.8634 - val_loss: 16.7946\n",
      "Epoch 10/20\n",
      "10/10 [==============================] - 0s 5ms/step - loss: 14.7164 - val_loss: 15.2186\n",
      "Epoch 11/20\n",
      "10/10 [==============================] - 0s 5ms/step - loss: 14.3699 - val_loss: 14.7462\n",
      "Epoch 12/20\n",
      "10/10 [==============================] - 0s 5ms/step - loss: 13.4479 - val_loss: 14.4462\n",
      "Epoch 13/20\n",
      "10/10 [==============================] - 0s 6ms/step - loss: 13.0151 - val_loss: 13.4638\n",
      "Epoch 14/20\n",
      "10/10 [==============================] - 0s 5ms/step - loss: 12.3135 - val_loss: 13.1561\n",
      "Epoch 15/20\n",
      "10/10 [==============================] - 0s 5ms/step - loss: 11.6534 - val_loss: 13.0888\n",
      "Epoch 16/20\n",
      "10/10 [==============================] - 0s 5ms/step - loss: 11.8064 - val_loss: 12.4235\n",
      "Epoch 17/20\n",
      "10/10 [==============================] - 0s 5ms/step - loss: 11.0997 - val_loss: 12.0108\n",
      "Epoch 18/20\n",
      "10/10 [==============================] - 0s 5ms/step - loss: 10.6569 - val_loss: 12.1604\n",
      "Epoch 19/20\n",
      "10/10 [==============================] - 0s 5ms/step - loss: 10.5063 - val_loss: 12.1714\n",
      "Epoch 20/20\n",
      "10/10 [==============================] - 0s 4ms/step - loss: 10.1556 - val_loss: 11.5216\n"
     ]
    }
   ],
   "source": [
    "train = model.fit(x_train, y_train,\n",
    "                 epochs=20,\n",
    "                 validation_data=(x_valid, y_valid))"
   ]
  },
  {
   "cell_type": "code",
   "execution_count": 14,
   "metadata": {
    "colab": {
     "base_uri": "https://localhost:8080/",
     "height": 265
    },
    "executionInfo": {
     "elapsed": 8,
     "status": "ok",
     "timestamp": 1677642136589,
     "user": {
      "displayName": "Sunny",
      "userId": "16304866321136083837"
     },
     "user_tz": -480
    },
    "id": "WV-SRAwL9Dj6",
    "outputId": "3316e72b-bb67-4f65-efee-f42a50d2e158"
   },
   "outputs": [
    {
     "data": {
      "image/png": "[encoded data removed]",
      "text/plain": [
       "<Figure size 640x480 with 1 Axes>"
      ]
     },
     "metadata": {},
     "output_type": "display_data"
    }
   ],
   "source": [
    "pd.DataFrame(train.history).plot()\n",
    "plt.grid(True)\n",
    "plt.show()"
   ]
  },
  {
   "cell_type": "code",
   "execution_count": 15,
   "metadata": {
    "colab": {
     "base_uri": "https://localhost:8080/"
    },
    "executionInfo": {
     "elapsed": 343,
     "status": "ok",
     "timestamp": 1677642258254,
     "user": {
      "displayName": "Sunny",
      "userId": "16304866321136083837"
     },
     "user_tz": -480
    },
    "id": "n9GYvgkeQjRN",
    "outputId": "80d4bbd4-3fdd-4717-fec2-c8bf40ee8305"
   },
   "outputs": [
    {
     "name": "stdout",
     "output_type": "stream",
     "text": [
      "4/4 [==============================] - 0s 2ms/step - loss: 21.0118\n"
     ]
    },
    {
     "data": {
      "text/plain": [
       "21.011838912963867"
      ]
     },
     "execution_count": 15,
     "metadata": {},
     "output_type": "execute_result"
    }
   ],
   "source": [
    "model.evaluate(x_test,y_test)"
   ]
  },
  {
   "cell_type": "code",
   "execution_count": 16,
   "metadata": {
    "colab": {
     "base_uri": "https://localhost:8080/"
    },
    "executionInfo": {
     "elapsed": 733,
     "status": "ok",
     "timestamp": 1677642310781,
     "user": {
      "displayName": "Sunny",
      "userId": "16304866321136083837"
     },
     "user_tz": -480
    },
    "id": "7yOuqGS6Q2gO",
    "outputId": "0603940d-9760-495a-a9e8-2a1159f76e0a"
   },
   "outputs": [
    {
     "name": "stdout",
     "output_type": "stream",
     "text": [
      "1/1 [==============================] - 0s 78ms/step\n"
     ]
    },
    {
     "data": {
      "text/plain": [
       "array([[ 8.63211 ],\n",
       "       [16.067991],\n",
       "       [21.471321]], dtype=float32)"
      ]
     },
     "execution_count": 16,
     "metadata": {},
     "output_type": "execute_result"
    }
   ],
   "source": [
    "model.predict(x_test[:3])"
   ]
  },
  {
   "cell_type": "code",
   "execution_count": 17,
   "metadata": {
    "colab": {
     "base_uri": "https://localhost:8080/"
    },
    "executionInfo": {
     "elapsed": 278,
     "status": "ok",
     "timestamp": 1677642327440,
     "user": {
      "displayName": "Sunny",
      "userId": "16304866321136083837"
     },
     "user_tz": -480
    },
    "id": "JgsNMfWdRiPG",
    "outputId": "560a1d4a-cb2f-4970-af2e-f01e38ed835c"
   },
   "outputs": [
    {
     "data": {
      "text/plain": [
       "array([ 7.2, 18.8, 19. ])"
      ]
     },
     "execution_count": 17,
     "metadata": {},
     "output_type": "execute_result"
    }
   ],
   "source": [
    "y_test[:3]"
   ]
  }
 ],
 "metadata": {
  "colab": {
   "authorship_tag": "ABX9TyOBRcUFcxNiO/50iGCce5Ll",
   "provenance": []
  },
  "kernelspec": {
   "display_name": "Python 3 (ipykernel)",
   "language": "python",
   "name": "python3"
  },
  "language_info": {
   "codemirror_mode": {
    "name": "ipython",
    "version": 3
   },
   "file_extension": ".py",
   "mimetype": "text/x-python",
   "name": "python",
   "nbconvert_exporter": "python",
   "pygments_lexer": "ipython3",
   "version": "3.9.13"
  }
 },
 "nbformat": 4,
 "nbformat_minor": 1
}
